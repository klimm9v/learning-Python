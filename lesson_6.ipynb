{
 "cells": [
  {
   "cell_type": "code",
   "execution_count": null,
   "metadata": {},
   "outputs": [],
   "source": [
    "# HASATTR\n",
    "\n",
    "Функция hasattr в Python используется для проверки наличия атрибута у обьекта (у класса или экземпляра). Она принимает два аргумента: \n",
    "объект и имя атрибута, и возвращает True, если атрибут с таким именем существует у объекта, и False в противном случае\n",
    "\n",
    "Синтаксис функции hasattr:\n",
    "\n",
    "hasattr(object, name)\n",
    "object - объект (класс, экземпляр) у которого нужно проверить наличие атрибута\n",
    "name - имя атрибута, наличие которого нужно проверить. Имя атрибута должно быть с кавычками (str)"
   ]
  },
  {
   "cell_type": "code",
   "execution_count": 1,
   "metadata": {},
   "outputs": [
    {
     "name": "stdout",
     "output_type": "stream",
     "text": [
      "True\n",
      "True\n",
      "False\n"
     ]
    }
   ],
   "source": [
    "# Пример использования функции hasattr:\n",
    "\n",
    "class Person: \n",
    "    name = 'vasya' # создали класс Person с атрибутом name \n",
    "\n",
    "id_1 = Person() # создали экземпляр класса Person\n",
    "\n",
    "print(hasattr(Person, 'name'))\n",
    "print(hasattr(id_1, 'name'))\n",
    "print(hasattr(id_1, 'age'))"
   ]
  },
  {
   "cell_type": "code",
   "execution_count": null,
   "metadata": {},
   "outputs": [],
   "source": []
  }
 ],
 "metadata": {
  "kernelspec": {
   "display_name": "Python 3",
   "language": "python",
   "name": "python3"
  },
  "language_info": {
   "codemirror_mode": {
    "name": "ipython",
    "version": 3
   },
   "file_extension": ".py",
   "mimetype": "text/x-python",
   "name": "python",
   "nbconvert_exporter": "python",
   "pygments_lexer": "ipython3",
   "version": "3.11.6"
  }
 },
 "nbformat": 4,
 "nbformat_minor": 2
}
