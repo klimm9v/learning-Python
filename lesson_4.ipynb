{
 "cells": [
  {
   "cell_type": "code",
   "execution_count": 2,
   "metadata": {},
   "outputs": [
    {
     "name": "stdout",
     "output_type": "stream",
     "text": [
      "5\n"
     ]
    }
   ],
   "source": [
    "# SETATTR \n",
    "# встроенная функция setattr (\"set attribute\", \"установить атрибут\") представляет возможность создавать\n",
    "# или изменять атрибут у обьекта (класс, экземпляр)\n",
    "# Синтаксис функции SETATTR \n",
    "# setattr(object, name, value) # object - обьект у которого нужно установить атрибут, name - имя атрибута, value - значение\n",
    "# в функции setattr аргумент name должнен быть строкой или переменной\n",
    "class Apple:\n",
    "    pass\n",
    "\n",
    "setattr(Apple, 'size', 5)\n",
    "print(Apple.size)"
   ]
  },
  {
   "cell_type": "code",
   "execution_count": null,
   "metadata": {},
   "outputs": [],
   "source": [
    "# Приведу неправильный пример \n",
    "\n",
    "class Apple:\n",
    "    pass\n",
    "\n",
    "setattr(Apple, size, 5) # ошибка! NameError: name 'size' is not defined"
   ]
  },
  {
   "cell_type": "code",
   "execution_count": 6,
   "metadata": {},
   "outputs": [
    {
     "name": "stdout",
     "output_type": "stream",
     "text": [
      "red\n",
      "green\n"
     ]
    }
   ],
   "source": [
    "# Применение setattr\n",
    "\n",
    "class Apple: # создали класс Apple\n",
    "    pass\n",
    "\n",
    "id_1 = Apple() # создали экземпляр класса Apple \n",
    "setattr(id_1, 'color', 'red') # создали в экземпляре атрибут \"color\" с значением \"red\"\n",
    "print(id_1.color) # вызываем атрибут color в экземпляре id_1\n",
    "setattr(id_1, 'color', 'green') # переопределили атрибут \"color\" на значение \"green\", если бы атрибута \"color\" не было\n",
    "# то атрибут бы автоматически создался с значением \"green\"\n",
    "print(id_1.color)"
   ]
  },
  {
   "cell_type": "code",
   "execution_count": 8,
   "metadata": {},
   "outputs": [
    {
     "name": "stdout",
     "output_type": "stream",
     "text": [
      "khabib\n",
      "18\n",
      "Python\n"
     ]
    }
   ],
   "source": [
    "# Зачем использовать setattr \n",
    "file = {'name': 'khabib', 'age': 18, 'hobby': 'Python'} # создали словарь \n",
    "class Person:\n",
    "    pass\n",
    "\n",
    "for key, value in file.items():\n",
    "    setattr(Person, key, value)\n",
    "\n",
    "print(Person.name)\n",
    "print(Person.age)\n",
    "print(Person.hobby)\n",
    "\n",
    "В цикле используется метод items, который позволяет проходить по ключу и значению. \n",
    "Далее с помощью setattr создаём атрибуты в экземпляре id_1. В примере видно, что через точку мы не смогли бы это сделать, а через setattr - да.\n",
    "Через точку мы бы создали только один атрибут с именем key."
   ]
  }
 ],
 "metadata": {
  "kernelspec": {
   "display_name": "Python 3",
   "language": "python",
   "name": "python3"
  },
  "language_info": {
   "codemirror_mode": {
    "name": "ipython",
    "version": 3
   },
   "file_extension": ".py",
   "mimetype": "text/x-python",
   "name": "python",
   "nbconvert_exporter": "python",
   "pygments_lexer": "ipython3",
   "version": "3.11.5"
  }
 },
 "nbformat": 4,
 "nbformat_minor": 2
}
