{
 "cells": [
  {
   "cell_type": "code",
   "execution_count": 2,
   "metadata": {},
   "outputs": [],
   "source": [
    "# Методы\n",
    "\n",
    "class Calculator:\n",
    "    def addition(self):\n",
    "        print('складываю числа')\n",
    "        \n",
    "# Методы очень похожи на функции. Начинаются со слово def, имеют отступы, но в отличий от функций\n",
    "# в методах принято указывать параметр self"
   ]
  },
  {
   "cell_type": "code",
   "execution_count": null,
   "metadata": {},
   "outputs": [],
   "source": [
    "# Вызов метода в котором есть self необходимо вызывать через экземпляр.\n",
    "# Для вызова метода в конце указывается указывается оператор скобки\n",
    "\n",
    "class Calculator:\n",
    "    def addition(self): # создаем метод\n",
    "        print('Складываю числа')\n",
    "        \n",
    "calculator = Calculator() # создаем экземпляр\n",
    "calculator.addition()\n",
    "# Если вызвать через класс будет ошибка Calculator.addition()"
   ]
  },
  {
   "cell_type": "code",
   "execution_count": null,
   "metadata": {},
   "outputs": [],
   "source": [
    "# Первый параметр в метода имеет особую задачу - он является ссылкой на экземпляр\n",
    "\n",
    "class Calculator:\n",
    "    a = 10\n",
    "    b= 5\n",
    "    def addition(self): # складывает числа\n",
    "        summa = self.a + self.b\n",
    "        print(summa)\n",
    "        \n",
    "first = Calculator() # создаем экземпляр first\n",
    "first.addition() # вызываем метод addition\n",
    "\n",
    "second = Calculator() # создаем экземпляр second\n",
    "second.b = 10 # меняем значение атрибута b в экземпляре\n",
    "second.addition() # 20 \n",
    "\n",
    "# Когда мы вызываем метод first.addition()\n",
    "# 1) выполняется код summa = self.a + self.b \n",
    "# 2) self превращается в first\n",
    "# 3) выполняется код summa = first.a + first.b\n",
    "# 4) print выводит значение 15\n",
    "\n",
    "\n",
    "# Когда мы вызываем метод second.addition()\n",
    "# 1) выполняется код summa = self.a + self.b\n",
    "# 2) self превращается в first\n",
    "# 3) выполняется код summa = first.a + first.b\n",
    "# 4) print выводит значение 15"
   ]
  },
  {
   "cell_type": "code",
   "execution_count": null,
   "metadata": {},
   "outputs": [],
   "source": [
    "class Calculator:\n",
    "    a = 10\n",
    "    b = 5\n",
    "    def addition(self): \n",
    "        summa = a + b # NameError: name is not defined \n",
    "        print(summa)\n",
    "    \n",
    "first = Calculator()\n",
    "first.addition()\n",
    "\n",
    "В коде выше возникает ошибка. Это значит что переменная a не видит атрибут\n",
    "В классах нужно явно указывать откуда брать значения (из класса. экземпляра)\n",
    "Если вы хотите указать из класса. вам нужно явно указать. например вот так:\n",
    "summa = Calculator.a + Calculator.b\n",
    "если вы хотите брать из экземпляра, то self.a + self.b\n"
   ]
  },
  {
   "cell_type": "code",
   "execution_count": 3,
   "metadata": {},
   "outputs": [
    {
     "name": "stdout",
     "output_type": "stream",
     "text": [
      "15\n"
     ]
    }
   ],
   "source": [
    "# Если планируешь вызывать метод через класс, тогда надо убрать self \n",
    "# а в теле явно указать откуда брать параметры\n",
    "\n",
    "class Calculator:\n",
    "    a = 10\n",
    "    b = 5\n",
    "    def addition():\n",
    "        summa = Calculator.a + Calculator.b\n",
    "        print(summa)\n",
    "    \n",
    "Calculator.addition()"
   ]
  },
  {
   "cell_type": "code",
   "execution_count": 5,
   "metadata": {},
   "outputs": [
    {
     "name": "stdout",
     "output_type": "stream",
     "text": [
      "5\n"
     ]
    }
   ],
   "source": [
    "# Позиционные аргументы в метода\n",
    "\n",
    "class Calculator:\n",
    "    def addition(self, a, b):\n",
    "        return a + b\n",
    "    \n",
    "first = Calculator()\n",
    "print(first.addition(2, 3))"
   ]
  },
  {
   "cell_type": "code",
   "execution_count": 7,
   "metadata": {},
   "outputs": [
    {
     "name": "stdout",
     "output_type": "stream",
     "text": [
      "5\n"
     ]
    }
   ],
   "source": [
    "class Calculator():\n",
    "    def addition(self, *args, **kwargs):\n",
    "        return sum(args)\n",
    "\n",
    "first = Calculator()\n",
    "print(first.addition(1, 1, 1, 1, 1))"
   ]
  },
  {
   "cell_type": "markdown",
   "metadata": {},
   "source": [
    "Как и в функциях, в классах тоже можно применить args и kwargs. В примере мы используем только args и при вызове метода пишем произвольное количество цифр. В результате получаем на экране число 5, так как метод суммирует все цифры, используя функцию sum(). Это всего лишь пример, в реальности мы должны учитывать и args и kwargs, если мы их объявили в методе."
   ]
  },
  {
   "cell_type": "code",
   "execution_count": 13,
   "metadata": {},
   "outputs": [
    {
     "name": "stdout",
     "output_type": "stream",
     "text": [
      "Vasya 12\n"
     ]
    }
   ],
   "source": [
    "class Person():\n",
    "    def set_attr(name, age):\n",
    "        Person.name = name\n",
    "        Person.age = age\n",
    "\n",
    "(Person.set_attr('Vasya', 12))\n",
    "print(Person.name, Person.age)"
   ]
  }
 ],
 "metadata": {
  "kernelspec": {
   "display_name": "Python 3",
   "language": "python",
   "name": "python3"
  },
  "language_info": {
   "codemirror_mode": {
    "name": "ipython",
    "version": 3
   },
   "file_extension": ".py",
   "mimetype": "text/x-python",
   "name": "python",
   "nbconvert_exporter": "python",
   "pygments_lexer": "ipython3",
   "version": "3.10.12"
  }
 },
 "nbformat": 4,
 "nbformat_minor": 2
}
