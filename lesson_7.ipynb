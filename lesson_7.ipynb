{
 "cells": [
  {
   "cell_type": "code",
   "execution_count": null,
   "metadata": {},
   "outputs": [],
   "source": [
    "# delattr\n",
    "\n",
    "Функция delattr в Python используется для удаления атрибута у объекта. \n",
    "Она принимает два аргумента: обьект и атрибут и удаляет атрибут у данного обьекта \n",
    "\n",
    "Синтаксис функции delattr:\n",
    "\n",
    "delattr(object, name)\n",
    "\n",
    "object - имя обьекта у которого нужно удалить  атрибут\n",
    "name - имя атрибута которое нужно удалить, имя атрибута в кавычках(str)"
   ]
  },
  {
   "cell_type": "code",
   "execution_count": 1,
   "metadata": {},
   "outputs": [
    {
     "name": "stdout",
     "output_type": "stream",
     "text": [
      "True\n",
      "False\n"
     ]
    }
   ],
   "source": [
    "# Пример использования функции delattr\n",
    "\n",
    "class Person:\n",
    "    pass\n",
    "\n",
    "id_1 = Person()\n",
    "setattr(id_1, 'name', 'vasya')\n",
    "print(hasattr(id_1, 'name'))\n",
    "\n",
    "delattr(id_1, 'name')\n",
    "print(hasattr(id_1, \"name\"))\n",
    "\n",
    "В данном коде мы создали пустой класс Person, далее создали экземпляр класса id_1, создали в нем атрибут name\n",
    "проверили есть ли этот атрибут в экземпляре, и он был там, далее мы удалили его оттуда, и опять проверили и нам выдало False"
   ]
  },
  {
   "cell_type": "code",
   "execution_count": 4,
   "metadata": {},
   "outputs": [
    {
     "name": "stdout",
     "output_type": "stream",
     "text": [
      "Vasya\n"
     ]
    }
   ],
   "source": [
    "# hasattr, delattr и ошибки\n",
    "\n",
    "class Person:\n",
    "    name = 'Vasya'\n",
    "\n",
    "id_1 = Person()\n",
    "if hasattr(id_1, 'name'):\n",
    "    delattr(id_1, 'name')"
   ]
  }
 ],
 "metadata": {
  "kernelspec": {
   "display_name": "Python 3",
   "language": "python",
   "name": "python3"
  },
  "language_info": {
   "codemirror_mode": {
    "name": "ipython",
    "version": 3
   },
   "file_extension": ".py",
   "mimetype": "text/x-python",
   "name": "python",
   "nbconvert_exporter": "python",
   "pygments_lexer": "ipython3",
   "version": "3.11.6"
  }
 },
 "nbformat": 4,
 "nbformat_minor": 2
}
