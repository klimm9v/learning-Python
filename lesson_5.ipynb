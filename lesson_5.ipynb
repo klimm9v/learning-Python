{
 "cells": [
  {
   "cell_type": "code",
   "execution_count": null,
   "metadata": {},
   "outputs": [],
   "source": [
    "# GETATTR\n",
    "Функция getattr (\"get attribute\", \"получить атрибут\").Используется для получения значения атрибута объекта по его имени."
   ]
  },
  {
   "cell_type": "code",
   "execution_count": null,
   "metadata": {},
   "outputs": [],
   "source": [
    "Синтаксис функции getattr\n",
    "\n",
    "getattr(object, name, default)\n",
    "\n",
    "object - обьект, у которого хотите получить атрибут(класс, экземпляр)\n",
    "name - строка, представляющая имя атрибута который вы хотите получить. Здесь тоже нужно указывать строку или переменную\n",
    "default(необязательный аргумент) - значение, которое будет возвращено, если атрибут не существует\n",
    "если default не указан и атрибут не найден, возникнет ошибка AttributeError!"
   ]
  },
  {
   "cell_type": "code",
   "execution_count": 1,
   "metadata": {},
   "outputs": [
    {
     "name": "stdout",
     "output_type": "stream",
     "text": [
      "Vasya\n",
      "нет атрибута\n"
     ]
    },
    {
     "ename": "AttributeError",
     "evalue": "'Person' object has no attribute 'bith'",
     "output_type": "error",
     "traceback": [
      "\u001b[0;31m---------------------------------------------------------------------------\u001b[0m",
      "\u001b[0;31mAttributeError\u001b[0m                            Traceback (most recent call last)",
      "Cell \u001b[0;32mIn[1], line 10\u001b[0m\n\u001b[1;32m      8\u001b[0m \u001b[38;5;28mprint\u001b[39m(\u001b[38;5;28mgetattr\u001b[39m(person_1, \u001b[38;5;124m'\u001b[39m\u001b[38;5;124mname\u001b[39m\u001b[38;5;124m'\u001b[39m, \u001b[38;5;28;01mFalse\u001b[39;00m))\n\u001b[1;32m      9\u001b[0m \u001b[38;5;28mprint\u001b[39m(\u001b[38;5;28mgetattr\u001b[39m(person_1, \u001b[38;5;124m'\u001b[39m\u001b[38;5;124mbirth\u001b[39m\u001b[38;5;124m'\u001b[39m, \u001b[38;5;124m'\u001b[39m\u001b[38;5;124mнет атрибута\u001b[39m\u001b[38;5;124m'\u001b[39m))\n\u001b[0;32m---> 10\u001b[0m \u001b[38;5;28mprint\u001b[39m(\u001b[38;5;28;43mgetattr\u001b[39;49m\u001b[43m(\u001b[49m\u001b[43mperson_1\u001b[49m\u001b[43m,\u001b[49m\u001b[43m \u001b[49m\u001b[38;5;124;43m'\u001b[39;49m\u001b[38;5;124;43mbith\u001b[39;49m\u001b[38;5;124;43m'\u001b[39;49m\u001b[43m)\u001b[49m)\n",
      "\u001b[0;31mAttributeError\u001b[0m: 'Person' object has no attribute 'bith'"
     ]
    }
   ],
   "source": [
    "# Пример использования\n",
    "\n",
    "class Person:\n",
    "    name = 'Vasya'\n",
    "    age = 14\n",
    "\n",
    "person_1 = Person()\n",
    "print(getattr(person_1, 'name', False))\n",
    "print(getattr(person_1, 'birth', 'нет атрибута'))\n",
    "print(getattr(person_1, 'bith'))"
   ]
  },
  {
   "cell_type": "code",
   "execution_count": null,
   "metadata": {},
   "outputs": [],
   "source": [
    "В примере мы использовали getattr с тремя аргументам. В первом случае атрибут name присутствует и мы получаем значение Vasya. \n",
    "Во втором случае атрибута birth не существует и мы получаем значение \"нет атрибута\". В третьем случае выходит ошибка, тк \n",
    "сам атрибут не найден и не указано значение default. Обратите внимания что атрибуты пишутся в кавычках."
   ]
  },
  {
   "cell_type": "code",
   "execution_count": 2,
   "metadata": {},
   "outputs": [
    {
     "name": "stdout",
     "output_type": "stream",
     "text": [
      "hobby\n"
     ]
    }
   ],
   "source": [
    "# Функцию getattr часто используют в циклах, потому-что прямое образение там не всегда работает\n",
    "\n",
    "file = ['name', 'age', 'hobby', 'lolo']\n",
    "\n",
    "class Person:\n",
    "    hobby = 'programming'\n",
    "\n",
    "for value in file:\n",
    "    if getattr(Person, value, False):\n",
    "        print(value)\n",
    " \n",
    "В этом примере мы проверяем если среди списка file атрибут класса Person. В цикле мы пробегаем по списку и используем getattr как проверку.\n",
    "Если такого атрибута нет, функция возвращает False, а если есть печатает имя атрибута"
   ]
  },
  {
   "cell_type": "code",
   "execution_count": null,
   "metadata": {},
   "outputs": [],
   "source": [
    "Важные моменты\n",
    "\n",
    "Функцию getattr удобно использовать, когда неизвестно, есть ли такой атрибут или нет. ПОтому что у getattr есть третий аргумент\n",
    "default который возвращает если атрибута нет\n",
    "Функцию getattr часто используют в циклах, потому-что прямое обращение к атрибуту в цикле не всегда работает!"
   ]
  }
 ],
 "metadata": {
  "kernelspec": {
   "display_name": "Python 3",
   "language": "python",
   "name": "python3"
  },
  "language_info": {
   "codemirror_mode": {
    "name": "ipython",
    "version": 3
   },
   "file_extension": ".py",
   "mimetype": "text/x-python",
   "name": "python",
   "nbconvert_exporter": "python",
   "pygments_lexer": "ipython3",
   "version": "3.11.6"
  }
 },
 "nbformat": 4,
 "nbformat_minor": 2
}
