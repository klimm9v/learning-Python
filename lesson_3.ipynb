{
 "cells": [
  {
   "cell_type": "code",
   "execution_count": null,
   "metadata": {},
   "outputs": [],
   "source": [
    "Как создавать или изменять атрибуты?\n",
    "\n",
    "Обьект.Атрибут = Значение\n",
    "\n",
    "\"\"\"\n",
    "Объект - это класс или экземпляр, в котором вы хотите создать или изменить атрибут\n",
    "Атрибут - это имя атрибута, который вы хотите создать или изменить\n",
    "Значение - это значение, которое будет присвоено атрибуту\n",
    "\n",
    "Например Person.name = 'vasya' здесь Person - это класс, name - это имя атрибута, 'vasya' это значение\n",
    " \n",
    "\"\"\""
   ]
  },
  {
   "cell_type": "code",
   "execution_count": 2,
   "metadata": {},
   "outputs": [
    {
     "name": "stdout",
     "output_type": "stream",
     "text": [
      "6\n",
      "10\n"
     ]
    }
   ],
   "source": [
    "# Давайте создадим пустой класс Apple, затем создадим атрибут size, и изменим его значение\n",
    "\n",
    "class Apple:\n",
    "    pass\n",
    "\n",
    "Apple.size = 6 # создание нового атрибута для класса\n",
    "print(Apple.size) \n",
    "\n",
    "Apple.size = 10 # Изменение значения атрибута класса\n",
    "print(Apple.size)\n",
    "\n",
    "В этом примере мы создаем атрибут size в классе, с помощью команды Apple.size = 6. \n",
    "Затем size появляется в хранилище класса. Далее мы изменяем атрибут size с помощь команды Apple.size = 10\n",
    "Когда мы вызываем Apple.size = 6 программма проверяет, существует ли атрибут size в хранилище класса,\n",
    "если нет, создает его. Когда мы вызываем Apple.size = 10 программма проверяет, существует ли атрибут\n",
    "size, если да то заменяем значение на 10."
   ]
  },
  {
   "cell_type": "code",
   "execution_count": 5,
   "metadata": {},
   "outputs": [
    {
     "name": "stdout",
     "output_type": "stream",
     "text": [
      "green\n",
      "5\n"
     ]
    },
    {
     "ename": "AttributeError",
     "evalue": "type object 'Apple' has no attribute 'size'",
     "output_type": "error",
     "traceback": [
      "\u001b[0;31m---------------------------------------------------------------------------\u001b[0m",
      "\u001b[0;31mAttributeError\u001b[0m                            Traceback (most recent call last)",
      "Cell \u001b[0;32mIn[5], line 12\u001b[0m\n\u001b[1;32m     10\u001b[0m \u001b[38;5;28mprint\u001b[39m(apple_1\u001b[38;5;241m.\u001b[39mcolor)\n\u001b[1;32m     11\u001b[0m \u001b[38;5;28mprint\u001b[39m(apple_1\u001b[38;5;241m.\u001b[39msize)\n\u001b[0;32m---> 12\u001b[0m \u001b[38;5;28mprint\u001b[39m(\u001b[43mApple\u001b[49m\u001b[38;5;241;43m.\u001b[39;49m\u001b[43msize\u001b[49m)\n",
      "\u001b[0;31mAttributeError\u001b[0m: type object 'Apple' has no attribute 'size'"
     ]
    }
   ],
   "source": [
    "# Создание и изменение атрибута в экземпляре\n",
    "\n",
    "# Для экземпляра используется та же конструкция, что и для класса. Посмотрите ниже:\n",
    "\n",
    "class Apple:\n",
    "    color = 'green'\n",
    "\n",
    "apple_1 = Apple()\n",
    "apple_1.size = 5 # создали атрибут size в экземпляре apple_1\n",
    "print(apple_1.color)\n",
    "print(apple_1.size)\n",
    "print(Apple.size) # атрибут не найден и выйдет ошибка"
   ]
  },
  {
   "cell_type": "code",
   "execution_count": null,
   "metadata": {},
   "outputs": [],
   "source": [
    "В этом примере мы создали экземпляр класса Apple под названием apple_1 который унаследовал атрибут color\n",
    "далее мы создали новый атрибут в экземпляре size со значением 5 и вывели на экран, но произошла ошибка\n",
    "тк у класса Apple нет атрибута size, мы создали его в экземпляре apple_1"
   ]
  },
  {
   "cell_type": "code",
   "execution_count": 6,
   "metadata": {},
   "outputs": [
    {
     "name": "stdout",
     "output_type": "stream",
     "text": [
      "green\n",
      "red\n"
     ]
    }
   ],
   "source": [
    "#Переопределение. Есть интересная особенность атрибутов с одинаковыми именами. В классе и в экземпляре,\n",
    "могут храниться атрибуты с одинаковыми именами. Посмотрите пример\n",
    "\n",
    "class Apple: # определил класс Apple\n",
    "    color = 'red' # создали атрибут red в классе Apple\n",
    "\n",
    "apple_1 = Apple() # создали экземпляр класса \n",
    "apple_1.color = 'green' # переназначили атрибут экземпляра на 'green' (изначально ему передовался атрибут color с значением 'red')\n",
    "print(apple_1.color)\n",
    "print(Apple.color)"
   ]
  },
  {
   "cell_type": "code",
   "execution_count": null,
   "metadata": {},
   "outputs": [],
   "source": [
    "Процесс, когда вы создаёте в экземпляре объект с тем же именем, что и внутри класса, называется переопределением. \n",
    "В определённых ситуациях, программисты специально используют атрибуты в классах и экземплярах с одинаковыми именами. \n",
    "Переопределение - это просто термин, главное помните про алгоритмы поиска атрибута."
   ]
  }
 ],
 "metadata": {
  "kernelspec": {
   "display_name": "Python 3",
   "language": "python",
   "name": "python3"
  },
  "language_info": {
   "codemirror_mode": {
    "name": "ipython",
    "version": 3
   },
   "file_extension": ".py",
   "mimetype": "text/x-python",
   "name": "python",
   "nbconvert_exporter": "python",
   "pygments_lexer": "ipython3",
   "version": "3.11.6"
  }
 },
 "nbformat": 4,
 "nbformat_minor": 2
}
