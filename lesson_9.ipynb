{
 "cells": [
  {
   "cell_type": "markdown",
   "metadata": {},
   "source": [
    "Мы уже познакомились с self который ссылается на экземляр, но что если мы хотим чтобы первый параметр\n",
    "в методе ссылался на класс? Для этого можно использовать декоратор @classmethod метод перед которым стоит\n",
    "такой декоратор называется методом класса. Такой метод удобно использовать если вы хотите работать через класс\n",
    "или только с атрибутами класса."
   ]
  },
  {
   "cell_type": "markdown",
   "metadata": {},
   "source": [
    "С помощью метода класса мы можем создавать изменять или вызывать атрибуты класса. Для этого мы используем\n",
    "параметр cls внутри метода класса, по аналогии с self, имя первого параметра в методе принято указывать cls\n",
    "хотя технически можно назвать как угодно. За счет декоратора @classmethod параметр cls будет ссылаться на класс по аналогии с self,\n",
    "только ссылается на класс, а не на экземпляр."
   ]
  },
  {
   "cell_type": "code",
   "execution_count": 3,
   "metadata": {},
   "outputs": [
    {
     "name": "stdout",
     "output_type": "stream",
     "text": [
      "Hello\n",
      "Vasya\n"
     ]
    }
   ],
   "source": [
    "class MyClass:\n",
    "    name = 'Hello'\n",
    "\n",
    "    @classmethod\n",
    "    def set_attr(cls, new_name):\n",
    "        cls.name = new_name \n",
    "    \n",
    "    @classmethod\n",
    "    def get_attr(cls):\n",
    "        print(cls.name)\n",
    "    \n",
    "MyClass.get_attr()\n",
    "MyClass.set_attr('Vasya')\n",
    "\n",
    "print(MyClass.name)"
   ]
  },
  {
   "cell_type": "markdown",
   "metadata": {},
   "source": [
    "В приведенном примере метод get_attr() является методом класса, и он выводит экрна атрибута класса name. Команда print(cls.name) это тоже самое что и команда print(MyClass.name). Метод set_attr() изменяется"
   ]
  }
 ],
 "metadata": {
  "kernelspec": {
   "display_name": "Python 3",
   "language": "python",
   "name": "python3"
  },
  "language_info": {
   "codemirror_mode": {
    "name": "ipython",
    "version": 3
   },
   "file_extension": ".py",
   "mimetype": "text/x-python",
   "name": "python",
   "nbconvert_exporter": "python",
   "pygments_lexer": "ipython3",
   "version": "3.10.12"
  }
 },
 "nbformat": 4,
 "nbformat_minor": 2
}
