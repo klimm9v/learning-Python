{
 "cells": [
  {
   "cell_type": "code",
   "execution_count": null,
   "metadata": {},
   "outputs": [],
   "source": [
    "# Методы\n",
    "\n",
    "class Calculator:\n",
    "    def addition(self):\n",
    "        print('складываю числа')\n",
    "        \n",
    "# Методы очень похожи на функции. Начинаются со слово def, имеют отступы, но в отличий от функций"
   ]
  }
 ],
 "metadata": {
  "language_info": {
   "name": "python"
  }
 },
 "nbformat": 4,
 "nbformat_minor": 2
}
