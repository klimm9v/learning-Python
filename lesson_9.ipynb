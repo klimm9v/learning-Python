{
 "cells": [
  {
   "cell_type": "markdown",
   "metadata": {},
   "source": [
    "Мы уже познакомились с self который ссылается на экземляр, но что если мы хотим чтобы первый параметр\n",
    "в методе ссылался на класс? Для этого можно использовать декоратор @classmethod метод перед которым стоит\n",
    "такой декоратор называется методом класса. Такой метод удобно использовать если вы хотите работать через класс\n",
    "или только с атрибутами класса."
   ]
  },
  {
   "cell_type": "markdown",
   "metadata": {},
   "source": [
    "С помощью метода класса мы можем создавать изменять или вызывать атрибуты класса. Для этого мы используем\n",
    "параметр cls внутри метода класса, по аналогии с self, имя первого параметра в методе принято указывать cls\n",
    "хотя технически можно назвать как угодно. За счет декоратора @classmethod параметр cls будет ссылаться на класс по аналогии с self,\n",
    "только ссылается на класс, а не на экземпляр."
   ]
  },
  {
   "cell_type": "code",
   "execution_count": 3,
   "metadata": {},
   "outputs": [
    {
     "name": "stdout",
     "output_type": "stream",
     "text": [
      "Hello\n",
      "Vasya\n"
     ]
    }
   ],
   "source": [
    "class MyClass:\n",
    "    name = 'Hello'\n",
    "\n",
    "    @classmethod\n",
    "    def set_attr(cls, new_name):\n",
    "        cls.name = new_name \n",
    "    \n",
    "    @classmethod\n",
    "    def get_attr(cls):\n",
    "        print(cls.name)\n",
    "    \n",
    "MyClass.get_attr()\n",
    "MyClass.set_attr('Vasya')\n",
    "\n",
    "print(MyClass.name)"
   ]
  },
  {
   "cell_type": "markdown",
   "metadata": {},
   "source": [
    "В приведенном примере метод get_attr() является методом класса, и он выводит экрна атрибута класса name. Команда print(cls.name) это тоже самое что и команда print(MyClass.name). Метод set_attr() изменяет\n",
    "значение атрибута класса name на параметр new_name. Но если бы атрибута name в классе не существовало, то метод set_attr() создал атрибут name внутри класса"
   ]
  },
  {
   "cell_type": "markdown",
   "metadata": {},
   "source": [
    "Статические методы. Статические методы обьявляются с помощью декоратора @staticmethod перед определением метода. Они не принимают обязательный первый параметр self или cls. Статические методы чаще всего выполняют роль обычный функций от имени класса и используются если нужно что-топроверить, подсчитать и тд."
   ]
  },
  {
   "cell_type": "code",
   "execution_count": 7,
   "metadata": {},
   "outputs": [
    {
     "name": "stdout",
     "output_type": "stream",
     "text": [
      "10\n",
      "4\n"
     ]
    }
   ],
   "source": [
    "# Пример статического метода\n",
    "class MyClass:\n",
    "    @staticmethod\n",
    "    def sum_static(a, b):\n",
    "        return(a + b)\n",
    "    \n",
    "obg = MyClass()\n",
    "    \n",
    "print(MyClass.sum_static(5, 5))\n",
    "print(obg.sum_static(2, 2))"
   ]
  },
  {
   "cell_type": "markdown",
   "metadata": {},
   "source": [
    "Вызывают статический метод обычно от имени класса, но можно и от экземпляра. Статические методы хоть и называются методами, но на самом деле они являются функцией вокруг класса. Это можно проверить с помощью помощью type()"
   ]
  },
  {
   "cell_type": "code",
   "execution_count": 13,
   "metadata": {},
   "outputs": [
    {
     "name": "stdout",
     "output_type": "stream",
     "text": [
      "<class 'str'>\n"
     ]
    }
   ],
   "source": [
    "class SaidHello:\n",
    "    @staticmethod\n",
    "    def say_hello():\n",
    "        return 'hello'\n",
    "\n",
    "print(type(SaidHello.say_hello))"
   ]
  }
 ],
 "metadata": {
  "kernelspec": {
   "display_name": "Python 3",
   "language": "python",
   "name": "python3"
  },
  "language_info": {
   "codemirror_mode": {
    "name": "ipython",
    "version": 3
   },
   "file_extension": ".py",
   "mimetype": "text/x-python",
   "name": "python",
   "nbconvert_exporter": "python",
   "pygments_lexer": "ipython3",
   "version": "3.10.12"
  }
 },
 "nbformat": 4,
 "nbformat_minor": 2
}
